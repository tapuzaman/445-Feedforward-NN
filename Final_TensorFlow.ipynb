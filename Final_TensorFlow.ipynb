{
  "nbformat": 4,
  "nbformat_minor": 0,
  "metadata": {
    "colab": {
      "name": "Final-TensorFlow.ipynb",
      "provenance": [],
      "include_colab_link": true
    },
    "kernelspec": {
      "name": "python3",
      "display_name": "Python 3"
    }
  },
  "cells": [
    {
      "cell_type": "markdown",
      "metadata": {
        "id": "view-in-github",
        "colab_type": "text"
      },
      "source": [
        "<a href=\"https://colab.research.google.com/github/tapuzaman/445-Feedforward-NN/blob/master/Final_TensorFlow.ipynb\" target=\"_parent\"><img src=\"https://colab.research.google.com/assets/colab-badge.svg\" alt=\"Open In Colab\"/></a>"
      ]
    },
    {
      "cell_type": "code",
      "metadata": {
        "id": "tT33XDrxCROc",
        "colab_type": "code",
        "colab": {}
      },
      "source": [
        "import numpy\n",
        "import scipy.special\n",
        "import scipy.misc\n",
        "import scipy.ndimage\n",
        "import matplotlib.pyplot\n",
        "import json, codecs\n",
        "\n",
        "%matplotlib inline"
      ],
      "execution_count": 0,
      "outputs": []
    },
    {
      "cell_type": "code",
      "metadata": {
        "id": "XgVKt7k7RIE0",
        "colab_type": "code",
        "outputId": "05095d8f-b289-43c0-a53e-cdbca965bd4c",
        "colab": {
          "base_uri": "https://localhost:8080/",
          "height": 35
        }
      },
      "source": [
        "from google.colab import drive\n",
        "drive.mount('/content/drive')"
      ],
      "execution_count": 0,
      "outputs": [
        {
          "output_type": "stream",
          "text": [
            "Drive already mounted at /content/drive; to attempt to forcibly remount, call drive.mount(\"/content/drive\", force_remount=True).\n"
          ],
          "name": "stdout"
        }
      ]
    },
    {
      "cell_type": "code",
      "metadata": {
        "id": "tYvA7a0JCR9M",
        "colab_type": "code",
        "colab": {}
      },
      "source": [
        "class neural_network:\n",
        "        def __init__(self, inputNeuronsCount, hiddenNeuronsCount, outputNeuronsCount, learningRate) :\n",
        "            self.inputNeuronsCount  = inputNeuronsCount\n",
        "            self.hiddenNeuronsCount = hiddenNeuronsCount\n",
        "            self.outputNeuronsCount = outputNeuronsCount\n",
        "            self.learningRate       = learningRate\n",
        "           \n",
        "            self.hiddenLayerWeights = numpy.random.normal(\n",
        "                0.0, \n",
        "                pow(hiddenNeuronsCount, -0.5), \n",
        "                (hiddenNeuronsCount, inputNeuronsCount)\n",
        "            )\n",
        "            \n",
        "            self.outputLayerWeights = numpy.random.normal(\n",
        "                0.0, \n",
        "                pow(outputNeuronsCount, -0.5), \n",
        "                (outputNeuronsCount, hiddenNeuronsCount)\n",
        "            )\n",
        "            \n",
        "            self.activate = lambda x: scipy.special.expit(x)\n",
        "            self.activationDerivative = lambda outputMatrix: outputMatrix * (1.0 - outputMatrix) \n",
        "            \n",
        "            pass\n",
        "\n",
        "        def fit(self, inputs, targetResults) :\n",
        "     \n",
        "            inputsSignalsAsMatrix   = numpy.array(inputs, ndmin = 2).T\n",
        "            targetResultsAsMatrix   = numpy.array(targetResults, ndmin = 2).T\n",
        "            \n",
        "            hiddenLayerInSignals    = numpy.dot(self.hiddenLayerWeights, inputsSignalsAsMatrix)\n",
        "            hiddenLayerOutSignals   = self.activate(hiddenLayerInSignals)\n",
        "            \n",
        "            outputLayerInSignals    = numpy.dot(self.outputLayerWeights, hiddenLayerOutSignals)\n",
        "            outputLayerOutSignals   = self.activate(outputLayerInSignals)\n",
        "            \n",
        "            outputLayerErrors       = targetResultsAsMatrix - outputLayerOutSignals\n",
        "            hiddenLayerErrors       = numpy.dot(self.outputLayerWeights.T, outputLayerErrors)\n",
        "            \n",
        "            self.outputLayerWeights += self.learningRate * numpy.dot(\n",
        "                (outputLayerErrors * self.activationDerivative(outputLayerOutSignals)),\n",
        "                (numpy.transpose(hiddenLayerOutSignals)))\n",
        "            \n",
        "            self.hiddenLayerWeights += self.learningRate * numpy.dot(\n",
        "                (hiddenLayerErrors * self.activationDerivative(hiddenLayerOutSignals)),\n",
        "                (numpy.transpose(inputsSignalsAsMatrix)))    \n",
        "            \n",
        "            pass\n",
        "            \n",
        "        def query(self, inputs) :\n",
        "            inputsSignalsAsMatrix   =  numpy.array(inputs, ndmin = 2).T\n",
        "            \n",
        "\n",
        "            hiddenLayerInSignals    = numpy.dot(self.hiddenLayerWeights, inputsSignalsAsMatrix)\n",
        "            hiddenLayerOutSignals   = self.activate(hiddenLayerInSignals)\n",
        "            \n",
        "            outputLayerInSignals    = numpy.dot(self.outputLayerWeights, hiddenLayerOutSignals)\n",
        "            outputLayerOutSignals   = self.activate(outputLayerInSignals)\n",
        "            \n",
        "            return outputLayerOutSignals\n",
        "        \n",
        "        def exportWeights(self):\n",
        "            hiddenLayerWeightsAsList = self.hiddenLayerWeights.tolist()\n",
        "            outputLayerWeightsAsList = self.outputLayerWeights.tolist()\n",
        "            \n",
        "            json.dump(hiddenLayerWeightsAsList, codecs.open('hiddenLayerWeights.json', 'w', encoding='utf-8'), separators=(',', ':'), sort_keys=True, indent=4)\n",
        "            json.dump(outputLayerWeightsAsList, codecs.open('outputLayerWeights.json', 'w', encoding='utf-8'), separators=(',', ':'), sort_keys=True, indent=4)"
      ],
      "execution_count": 0,
      "outputs": []
    },
    {
      "cell_type": "code",
      "metadata": {
        "id": "DXRawxLUCU2c",
        "colab_type": "code",
        "colab": {}
      },
      "source": [
        "outputNeuronsCount = 10\n",
        "possibleOutputLabels = 10\n",
        "\n",
        "inputNeuronsCount = 28 * 28\n",
        "hiddenNeuronsCount = 200\n",
        "\n",
        "learningRate = 0.01\n",
        "    \n",
        "neuralNetwork = neural_network(inputNeuronsCount, hiddenNeuronsCount, outputNeuronsCount, learningRate)"
      ],
      "execution_count": 0,
      "outputs": []
    },
    {
      "cell_type": "code",
      "metadata": {
        "id": "zgfifnhSCYnF",
        "colab_type": "code",
        "colab": {}
      },
      "source": [
        "def generateImageRotatedBy10Degrees(imageStream):\n",
        "    imagePlus10 = scipy.ndimage.interpolation.rotate(imageStream.reshape(28,28), 10, cval = 0.01, order = 1, reshape = False)\n",
        "    imageMinus10 = scipy.ndimage.interpolation.rotate(imageStream.reshape(28,28), -10, cval = 0.01, order = 1, reshape = False)\n",
        "    return imagePlus10.reshape(784), imageMinus10.reshape(784)"
      ],
      "execution_count": 0,
      "outputs": []
    },
    {
      "cell_type": "code",
      "metadata": {
        "id": "vc70SslZCypw",
        "colab_type": "code",
        "outputId": "35d9d919-d148-4bc8-922c-f548a7b71640",
        "colab": {
          "base_uri": "https://localhost:8080/",
          "height": 126
        }
      },
      "source": [
        "trainingDatasetStream = open(\"/content/drive/My Drive/445/mnist_train.csv\", 'r')\n",
        "trainingDataset = trainingDatasetStream.readlines()\n",
        "trainingDatasetStream.close()\n",
        "epochs = 5\n",
        "                    \n",
        "print('Training....')\n",
        "\n",
        "for epoch in range(epochs):\n",
        "    for trainingRecord in trainingDataset:\n",
        "        trainingRecordObject = trainingRecord.split(',')\n",
        "\n",
        "        neuralNetworkInput = (numpy.asfarray(trainingRecordObject[1:]) / 255.0 * 0.99) + 0.01\n",
        "        rotatedInputs = generateImageRotatedBy10Degrees(neuralNetworkInput)\n",
        "        \n",
        "        desiredNeuralNetworkOutput = numpy.zeros(outputNeuronsCount) + 0.01\n",
        "        desiredNeuralNetworkOutput[int(trainingRecordObject[0])] = 0.99\n",
        "        \n",
        "        neuralNetwork.fit(neuralNetworkInput, desiredNeuralNetworkOutput)\n",
        "        neuralNetwork.fit(rotatedInputs[0], desiredNeuralNetworkOutput)\n",
        "        neuralNetwork.fit(rotatedInputs[1], desiredNeuralNetworkOutput)\n",
        "        pass\n",
        "    print('Epoch ' + str(epoch) + ' has finished...')\n",
        "    pass"
      ],
      "execution_count": 0,
      "outputs": [
        {
          "output_type": "stream",
          "text": [
            "Training....\n",
            "Epoch 0 has finished...\n",
            "Epoch 1 has finished...\n",
            "Epoch 2 has finished...\n",
            "Epoch 3 has finished...\n",
            "Epoch 4 has finished...\n"
          ],
          "name": "stdout"
        }
      ]
    },
    {
      "cell_type": "code",
      "metadata": {
        "id": "OvBdBlzGC2pm",
        "colab_type": "code",
        "colab": {}
      },
      "source": [
        "neuralNetwork.exportWeights()"
      ],
      "execution_count": 0,
      "outputs": []
    },
    {
      "cell_type": "code",
      "metadata": {
        "id": "QNOLJYLMEMu7",
        "colab_type": "code",
        "colab": {}
      },
      "source": [
        "testDatasetStream = open(\"/content/drive/My Drive/445/mnist_test.csv\", 'r')\n",
        "testDataset = testDatasetStream.readlines()\n",
        "testDatasetStream.close()"
      ],
      "execution_count": 0,
      "outputs": []
    },
    {
      "cell_type": "code",
      "metadata": {
        "id": "l5TiRMh3EPFB",
        "colab_type": "code",
        "outputId": "02a639be-002c-40f0-fd2b-3895be83fa1a",
        "colab": {
          "base_uri": "https://localhost:8080/",
          "height": 35
        }
      },
      "source": [
        "correctPredictionsCount = 0\n",
        "predictionsCount = 0\n",
        "\n",
        "for testRecord in testDataset:\n",
        "    testRecordObject = testRecord.split(',')\n",
        "\n",
        "    neuralNetworkInput = (numpy.asfarray(testRecordObject[1:]) / 255.0 * 0.99) + 0.01\n",
        "    neuralNetworkOutput = neuralNetwork.query(neuralNetworkInput)\n",
        "\n",
        "    testRecordLabel = int(testRecordObject[0])\n",
        "    neuralNetworkPrediction = numpy.argmax(neuralNetworkOutput)\n",
        "\n",
        "    if(neuralNetworkPrediction == testRecordLabel):\n",
        "        correctPredictionsCount+=1\n",
        "        \n",
        "    predictionsCount+=1\n",
        "    pass\n",
        "\n",
        "print('accuracy: ', correctPredictionsCount / predictionsCount)"
      ],
      "execution_count": 0,
      "outputs": [
        {
          "output_type": "stream",
          "text": [
            "accuracy:  0.973\n"
          ],
          "name": "stdout"
        }
      ]
    },
    {
      "cell_type": "code",
      "metadata": {
        "id": "FSHI1QXtEVVj",
        "colab_type": "code",
        "colab": {}
      },
      "source": [
        "def predictForImage(filename):\n",
        "    imageFile = scipy.misc.imread(filename, flatten=True)\n",
        "    \n",
        "    neuralNetworkInput  = 255.0 - imageFile.reshape(784)\n",
        "    neuralNetworkInput = (neuralNetworkInput / 255.0 * 0.99) + 0.01\n",
        "    matplotlib.pyplot.imshow(filename)\n",
        "    print('prediction result: ', numpy.argmax(neuralNetwork.query(neuralNetworkInput)))\n"
      ],
      "execution_count": 0,
      "outputs": []
    },
    {
      "cell_type": "code",
      "metadata": {
        "id": "znUJyYjrKjRm",
        "colab_type": "code",
        "colab": {}
      },
      "source": [
        ""
      ],
      "execution_count": 0,
      "outputs": []
    }
  ]
}